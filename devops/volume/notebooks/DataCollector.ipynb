{
 "cells": [
  {
   "cell_type": "code",
   "execution_count": 1,
   "id": "arranged-baseball",
   "metadata": {},
   "outputs": [],
   "source": [
    "import pandas as pd\n",
    "import requests\n",
    "from bs4 import BeautifulSoup\n",
    "import json\n",
    "import time\n",
    "import datetime\n",
    "import pytz\n",
    "import concurrent.futures"
   ]
  },
  {
   "cell_type": "code",
   "execution_count": 745,
   "id": "economic-saver",
   "metadata": {},
   "outputs": [],
   "source": [
    "# r = requests.get('https://myanimelist.net/anime/269')\n",
    "# soup = BeautifulSoup(r.text, 'html.parser')\n",
    "\n",
    "r = requests.get('https://myanimelist.net/anime/1')\n",
    "soup = BeautifulSoup(r.text, 'html.parser')\n",
    "\n",
    "# r = requests.get('https://myanimelist.net/anime/1')\n",
    "# soup = BeautifulSoup(r.text, 'html.parser')\n",
    "\n",
    "# r = requests.get('https://myanimelist.net/manga/96792')\n",
    "# soup = BeautifulSoup(r.text, 'html.parser')"
   ]
  },
  {
   "cell_type": "markdown",
   "id": "three-evolution",
   "metadata": {},
   "source": [
    "### Title"
   ]
  },
  {
   "cell_type": "code",
   "execution_count": 65,
   "id": "laden-armstrong",
   "metadata": {},
   "outputs": [
    {
     "name": "stdout",
     "output_type": "stream",
     "text": [
      "Jujutsu Kaisen (TV)\n"
     ]
    }
   ],
   "source": [
    "title = soup.find(class_='title-name h1_bold_none').find('strong').contents[0]\n",
    "print(title)"
   ]
  },
  {
   "cell_type": "markdown",
   "id": "political-return",
   "metadata": {},
   "source": [
    "### Photo"
   ]
  },
  {
   "cell_type": "code",
   "execution_count": 138,
   "id": "infectious-microphone",
   "metadata": {},
   "outputs": [
    {
     "name": "stdout",
     "output_type": "stream",
     "text": [
      "https://cdn.myanimelist.net/images/anime/1171/109222.jpg\n"
     ]
    }
   ],
   "source": [
    "image_url = soup.find('td').find('img').get('data-src')\n",
    "print(image_url)"
   ]
  },
  {
   "cell_type": "markdown",
   "id": "complex-better",
   "metadata": {},
   "source": [
    "### Left Panel (Alternative Titles, Information, Statistics)"
   ]
  },
  {
   "cell_type": "code",
   "execution_count": 398,
   "id": "confident-leadership",
   "metadata": {},
   "outputs": [
    {
     "name": "stdout",
     "output_type": "stream",
     "text": [
      "Not capable to parse\n",
      "Not capable to parse\n",
      "{'Synonyms': 'Sorcery Fight', 'Japanese': '呪術廻戦', 'Type': 'TV', 'Episodes': '24', 'Status': 'Currently Airing', 'Aired': 'Oct 3, 2020 to ?', 'Premiered': 'Fall 2020', 'Broadcast': 'Saturdays at 01:25 (JST)', 'Producers': ['TOHO animation', 'Shueisha', 'dugout'], 'Licensors': ['None found'], 'Studios': ['MAPPA'], 'Source': 'Manga', 'Genres': ['Action', 'Demons', 'Supernatural', 'School', 'Shounen'], 'Duration': '23 min. per ep.', 'Rating': 'R - 17+ (violence & profanity)', 'Score': '8.52', 'ScoredBy': '224502', 'Ranked': '#97', 'Popularity': '#142', 'Members': '676,763', 'Favorites': '18,996'}\n"
     ]
    }
   ],
   "source": [
    "type_info = soup.find_all('td')[0].find_all('div')\n",
    "\n",
    "anime_dict = {}\n",
    "\n",
    "iterator = 7\n",
    "while iterator <= len(type_info):\n",
    "    try:\n",
    "        if 'Type' in type_info[iterator].contents[1].contents[0]:\n",
    "            anime_dict[type_info[iterator].contents[1].contents[0].replace(':','')] = type_info[iterator].find('a').contents[0].rstrip().lstrip()\n",
    "            iterator+=1\n",
    "        elif 'Premiered' in type_info[iterator].contents[1].contents[0]:\n",
    "            anime_dict[type_info[iterator].contents[1].contents[0].replace(':','')] = type_info[iterator].find('a').contents[0].rstrip().lstrip()\n",
    "            iterator+=1\n",
    "        elif 'Producers' in type_info[iterator].contents[1].contents[0]:\n",
    "            producers_list = []\n",
    "            for producer in type_info[iterator].find_all('a'):\n",
    "                producers_list.append(producer.contents[0])\n",
    "            anime_dict[type_info[iterator].contents[1].contents[0].replace(':','')] = producers_list\n",
    "            iterator+=1\n",
    "        elif 'Licensors' in type_info[iterator].contents[1].contents[0]:\n",
    "            licensors_list = []\n",
    "\n",
    "            if 'None found' in type_info[iterator].contents[2]:\n",
    "                licensors_list.append('None found')\n",
    "            else:\n",
    "                for licensor in type_info[iterator].find_all('a'):\n",
    "                    licensors_list.append(licensor.contents[0])\n",
    "            anime_dict[type_info[iterator].contents[1].contents[0].replace(':','')] = licensors_list\n",
    "            iterator+=1\n",
    "        elif 'Studios' in type_info[iterator].contents[1].contents[0]:\n",
    "            studios_list = []\n",
    "            for studio in type_info[iterator].find_all('a'):\n",
    "                studios_list.append(studio.contents[0])\n",
    "            anime_dict[type_info[iterator].contents[1].contents[0].replace(':','')] = studios_list\n",
    "            iterator+=1\n",
    "        elif 'Genres' in type_info[iterator].contents[1].contents[0]:\n",
    "            genres_list = []\n",
    "            for genre in type_info[iterator].find_all('a'):\n",
    "                genres_list.append(genre.contents[0])\n",
    "            anime_dict[type_info[iterator].contents[1].contents[0].replace(':','')] = genres_list\n",
    "            iterator+=1\n",
    "        elif 'Score' in type_info[iterator].contents[1].contents[0]:    \n",
    "            anime_dict[type_info[iterator].contents[1].contents[0].replace(':','')] = type_info[iterator].contents[3].contents[0].rstrip().lstrip()\n",
    "            anime_dict['ScoredBy'] = type_info[iterator].contents[6].contents[0].rstrip().lstrip()\n",
    "            iterator+=2\n",
    "        elif 'Ranked' in type_info[iterator].contents[1].contents[0]:    \n",
    "            anime_dict[type_info[iterator].contents[1].contents[0].replace(':','')] = type_info[iterator].contents[2].rstrip().lstrip()\n",
    "            iterator+=2\n",
    "        else:\n",
    "            try:\n",
    "                anime_dict[type_info[iterator].contents[1].contents[0].replace(':','')] = type_info[iterator].contents[2].rstrip().lstrip()\n",
    "                iterator+=1\n",
    "            except:\n",
    "                print(type_info[iterator])\n",
    "                iterator+=1\n",
    "    except:\n",
    "        print('Not capable to parse')\n",
    "        iterator+=1\n",
    "        \n",
    "print(anime_dict)"
   ]
  },
  {
   "cell_type": "code",
   "execution_count": 467,
   "id": "stuck-denver",
   "metadata": {},
   "outputs": [],
   "source": [
    "# type_info = soup.find_all('td')[0].find_all('div')\n",
    "\n",
    "# iterator = 7\n",
    "# while iterator <= len(type_info):\n",
    "#     try:\n",
    "#         if 'Type' in type_info[iterator].contents[1].contents[0]:\n",
    "#             print(type_info[iterator].contents[1].contents[0] + ' ' + type_info[iterator].find('a').contents[0].rstrip().lstrip())\n",
    "#             iterator+=1\n",
    "#         elif 'Premiered' in type_info[iterator].contents[1].contents[0]:\n",
    "#             print(type_info[iterator].contents[1].contents[0] + ' ' + type_info[iterator].find('a').contents[0].rstrip().lstrip())\n",
    "#             iterator+=1\n",
    "#         elif 'Producers' in type_info[iterator].contents[1].contents[0]:\n",
    "#             producers_list = []\n",
    "#             for producer in type_info[iterator].find_all('a'):\n",
    "#                 producers_list.append(producer.contents[0])\n",
    "#             print(f'{type_info[iterator].contents[1].contents[0]} {producers_list}')\n",
    "#             iterator+=1\n",
    "#         elif 'Licensors' in type_info[iterator].contents[1].contents[0]:\n",
    "#             licensors_list = []\n",
    "\n",
    "#             if 'None found' in type_info[iterator].contents[2]:\n",
    "#                 licensors_list.append('None found')\n",
    "#             else:\n",
    "#                 for licensor in type_info[iterator].find_all('a'):\n",
    "#                     licensors_list.append(licensor.contents[0])\n",
    "#             print(f'{type_info[iterator].contents[1].contents[0]} {licensors_list}')\n",
    "#             iterator+=1\n",
    "#         elif 'Studios' in type_info[iterator].contents[1].contents[0]:\n",
    "#             studios_list = []\n",
    "#             for studio in type_info[iterator].find_all('a'):\n",
    "#                 studios_list.append(studio.contents[0])\n",
    "#             print(f'{type_info[iterator].contents[1].contents[0]} {studios_list}')\n",
    "#             iterator+=1\n",
    "#         elif 'Genres' in type_info[iterator].contents[1].contents[0]:\n",
    "#             genres_list = []\n",
    "#             for genre in type_info[iterator].find_all('a'):\n",
    "#                 genres_list.append(genre.contents[0])\n",
    "#             print(f'{type_info[iterator].contents[1].contents[0]} {genres_list}')\n",
    "#             iterator+=1\n",
    "#         elif 'Score' in type_info[iterator].contents[1].contents[0]:    \n",
    "#             print(type_info[iterator].contents[1].contents[0] + ' ' + type_info[iterator].contents[3].contents[0].rstrip().lstrip())\n",
    "#             print('Scored by: ' + type_info[iterator].contents[6].contents[0].rstrip().lstrip())\n",
    "#             iterator+=2\n",
    "#         elif 'Ranked' in type_info[iterator].contents[1].contents[0]:    \n",
    "#             print(type_info[iterator].contents[1].contents[0] + ' ' + type_info[iterator].contents[2].rstrip().lstrip())\n",
    "#             iterator+=2\n",
    "#         else:\n",
    "#             try:\n",
    "#                 print(type_info[iterator].contents[1].contents[0] + ' ' + type_info[iterator].contents[2].rstrip().lstrip())\n",
    "#                 iterator+=1\n",
    "#             except:\n",
    "#                 print(type_info[iterator])\n",
    "#                 iterator+=1\n",
    "#     except:\n",
    "#         print('Not capable to parse:')\n",
    "#         iterator+=1"
   ]
  },
  {
   "cell_type": "markdown",
   "id": "damaged-target",
   "metadata": {},
   "source": [
    "### Synopsis"
   ]
  },
  {
   "cell_type": "code",
   "execution_count": 740,
   "id": "meaningful-tamil",
   "metadata": {},
   "outputs": [
    {
     "name": "stdout",
     "output_type": "stream",
     "text": [
      "Ichigo Kurosaki is an ordinary high schooler—until his family is attacked by a Hollow, a corrupt spirit that seeks to devour human souls. It is then that he meets a Soul Reaper named Rukia Kuchiki, who gets injured while protecting Ichigo's family from the assailant. To save his family, Ichigo accepts Rukia's offer of taking her powers and becomes a Soul Reaper as a result. However, as Rukia is unable to regain her powers, Ichigo is given the daunting task of hunting down the Hollows that plague their town. However, he is not alone in his fight, as he is later joined by his friends—classmates Orihime Inoue, Yasutora Sado, and Uryuu Ishida—who each have their own unique abilities. As Ichigo and his comrades get used to their new duties and support each other on and off the battlefield, the young Soul Reaper soon learns that the Hollows are not the only real threat to the human world.\n"
     ]
    }
   ],
   "source": [
    "synopsis = ''\n",
    "\n",
    "if soup.find('table').find('tr').find('p').get('itemprop') == 'description':\n",
    "    for block in soup.find('table').find('tr').find('p'):\n",
    "        if '<br/>' not in str(block) and 'Written by MAL Rewrite' not in str(block) and str(block) != '\\n':\n",
    "            synopsis = synopsis + str(block)\n",
    "\n",
    "print(synopsis.replace('\\r','').replace('\\n',' ').replace('<i>','').replace('</i>',''))"
   ]
  },
  {
   "cell_type": "markdown",
   "id": "difficult-donor",
   "metadata": {},
   "source": [
    "### Background"
   ]
  },
  {
   "cell_type": "code",
   "execution_count": 746,
   "id": "demographic-whale",
   "metadata": {},
   "outputs": [
    {
     "name": "stdout",
     "output_type": "stream",
     "text": [
      "When Cowboy Bebop first aired in spring of 1998 on TV Tokyo, only episodes 2, 3, 7-15, and 18 were broadcast, it was concluded with a recap special known as Yose Atsume Blues. This was due to anime censorship having increased following the big controversies over Evangelion, as a result most of the series was pulled from the air due to violent content. Satellite channel WOWOW picked up the series in the fall of that year and aired it in its entirety uncensored. Cowboy Bebop was not a ratings hit in Japan, but sold over 19,000 DVD units in the initial release run, and 81,000 overall. Protagonist Spike Spiegel won Best Male Character, and Megumi Hayashibara won Best Voice Actor for her role as Faye Valentine in the 1999 and 2000 Anime Grand Prix, respectively.<br/> <br/> Cowboy Bebop's biggest influence has been in the United States, where it premiered on Adult Swim in 2001 with many reruns since. The show's heavy Western influence struck a chord with American viewers, where it became a \"gateway drug\" to anime aimed at adult audiences.\n"
     ]
    }
   ],
   "source": [
    "background = ''\n",
    "counter = 4\n",
    "\n",
    "content_list = soup.find('table').contents[1].find_all('td')[9].find('td')\n",
    "while counter < len(content_list):\n",
    "    content = content_list.contents[counter]\n",
    "    if 'div' not in str(content):\n",
    "        background = background+str(content)\n",
    "    counter+=1\n",
    "    \n",
    "print(background.replace('\\r','').replace('\\n',' ').replace('<i>','').replace('</i>',''))"
   ]
  },
  {
   "cell_type": "markdown",
   "id": "distributed-volunteer",
   "metadata": {},
   "source": [
    "### Links: Stats, Episodes and Characters"
   ]
  },
  {
   "cell_type": "code",
   "execution_count": 511,
   "id": "continent-insulin",
   "metadata": {},
   "outputs": [
    {
     "name": "stdout",
     "output_type": "stream",
     "text": [
      "{'Episodes': 'https://myanimelist.net/anime/40748/Jujutsu_Kaisen_TV/episode', 'Stats': 'https://myanimelist.net/anime/40748/Jujutsu_Kaisen_TV/stats', 'Characters & Staff': 'https://myanimelist.net/anime/40748/Jujutsu_Kaisen_TV/characters'}\n"
     ]
    }
   ],
   "source": [
    "links_dict = {}\n",
    "wanted_links = ['Episodes','Characters & Staff','Stats']\n",
    "\n",
    "for link_block in soup.find('table').find('tr').find_all('li'):\n",
    "    if link_block.find('a').contents[0] in wanted_links:\n",
    "        links_dict[link_block.find('a').contents[0]] = link_block.find('a').get('href')\n",
    "        \n",
    "print(links_dict)"
   ]
  },
  {
   "cell_type": "markdown",
   "id": "younger-feeding",
   "metadata": {},
   "source": [
    "## Bringing all metadata"
   ]
  },
  {
   "cell_type": "code",
   "execution_count": 2,
   "id": "manual-canal",
   "metadata": {},
   "outputs": [
    {
     "name": "stdout",
     "output_type": "stream",
     "text": [
      "{'id': 'Jujutsu Kaisen (TV)', 'title': 'Jujutsu Kaisen (TV)', 'photo': 'https://cdn.myanimelist.net/images/anime/1171/109222.jpg', 'links': {'episodes': 'https://myanimelist.net/anime/40748/Jujutsu_Kaisen_TV/episode', 'stats': 'https://myanimelist.net/anime/40748/Jujutsu_Kaisen_TV/stats', 'characters & staff': 'https://myanimelist.net/anime/40748/Jujutsu_Kaisen_TV/characters'}, 'synopsis': 'Idly indulging in baseless paranormal activities with the Occult Club, high schooler Yuuji Itadori spends his days at either the clubroom or the hospital, where he visits his bedridden grandfather. However, this leisurely lifestyle soon takes a turn for the strange when he unknowingly encounters a cursed item. Triggering a chain of supernatural occurrences, Yuuji finds himself suddenly thrust into the world of Curses—dreadful beings formed from human malice and negativity—after swallowing the said item, revealed to be a finger belonging to the demon Sukuna Ryoumen, the \"King of Curses.\" Yuuji experiences first-hand the threat these Curses pose to society as he discovers his own newfound powers. Introduced to the Tokyo Metropolitan Jujutsu Technical High School, he begins to walk down a path from which he cannot return—the path of a Jujutsu sorcerer.', 'background': 'No background information', 'details': {'Synonyms': 'Sorcery Fight', 'Japanese': '呪術廻戦', 'Type': 'TV', 'Episodes': '24', 'Status': 'Currently Airing', 'Aired': 'Oct 3, 2020 to ?', 'Premiered': 'Fall 2020', 'Broadcast': 'Saturdays at 01:25 (JST)', 'Producers': ['TOHO animation', 'Shueisha', 'dugout'], 'Licensors': ['None found'], 'Studios': ['MAPPA'], 'Source': 'Manga', 'Genres': ['Action', 'Demons', 'Supernatural', 'School', 'Shounen'], 'Duration': '23 min. per ep.', 'Rating': 'R - 17+ (violence & profanity)', 'Score': '8.52', 'ScoredBy': '225166', 'Ranked': '#97', 'Popularity': '#142', 'Members': '678,075', 'Favorites': '19,067'}, 'data_extraction': '2021-02-14 23:44:48'}\n"
     ]
    }
   ],
   "source": [
    "r = requests.get('https://myanimelist.net/anime/40748')\n",
    "soup = BeautifulSoup(r.text, 'html.parser')\n",
    "\n",
    "brazil_time = pytz.timezone(\"America/Sao_Paulo\")\n",
    "\n",
    "\n",
    "def get_anime_title(soup):\n",
    "    return soup.find(class_='title-name h1_bold_none').find('strong').contents[0]\n",
    "\n",
    "\n",
    "def get_anime_photo(soup):\n",
    "    return soup.find('td').find('img').get('data-src')\n",
    "\n",
    "\n",
    "def get_anime_links(soup):\n",
    "    links_dict = {}\n",
    "    wanted_links = ['Episodes','Characters & Staff','Stats']\n",
    "\n",
    "    for link_block in soup.find('table').find('tr').find_all('li'):\n",
    "        if link_block.find('a').contents[0] in wanted_links:\n",
    "            links_dict[link_block.find('a').contents[0].lower()] = link_block.find('a').get('href')\n",
    "    \n",
    "    return links_dict\n",
    "\n",
    "\n",
    "def get_anime_synopsis(soup):\n",
    "    synopsis = ''\n",
    "\n",
    "    if soup.find('table').find('tr').find('p').get('itemprop') == 'description':\n",
    "        for block in soup.find('table').find('tr').find('p'):\n",
    "            if '<br/>' not in str(block) and 'Written by MAL Rewrite' not in str(block) and str(block) != '\\n':\n",
    "                synopsis = synopsis + str(block)\n",
    "                \n",
    "    return synopsis.replace('\\r','').replace('\\n',' ').replace('<i>','').replace('</i>','')\n",
    "\n",
    "\n",
    "def get_anime_background(soup):\n",
    "    if 'No background information' in soup.find('table').contents[1].find_all('td')[9].find('td').contents[4]:\n",
    "        return 'No background information'\n",
    "    \n",
    "    background = ''\n",
    "    counter = 4\n",
    "\n",
    "    content_list = soup.find('table').contents[1].find_all('td')[9].find('td')\n",
    "    while counter < len(content_list):\n",
    "        content = content_list.contents[counter]\n",
    "        if 'div' not in str(content):\n",
    "            background = background+str(content)\n",
    "        counter+=1\n",
    "\n",
    "    return background.replace('\\r','').replace('\\n',' ').replace('<i>','').replace('</i>','')\n",
    "\n",
    "\n",
    "\n",
    "def get_anime_details(soup):\n",
    "    type_info = soup.find_all('td')[0].find_all('div')\n",
    "\n",
    "    details_dict = {}\n",
    "\n",
    "    iterator = 7\n",
    "    while iterator <= len(type_info):\n",
    "        try:\n",
    "            if 'Type' in type_info[iterator].contents[1].contents[0]:\n",
    "                details_dict[type_info[iterator].contents[1].contents[0].replace(':','')] = type_info[iterator].find('a').contents[0].rstrip().lstrip()\n",
    "                iterator+=1\n",
    "            elif 'Premiered' in type_info[iterator].contents[1].contents[0]:\n",
    "                details_dict[type_info[iterator].contents[1].contents[0].replace(':','')] = type_info[iterator].find('a').contents[0].rstrip().lstrip()\n",
    "                iterator+=1\n",
    "            elif 'Producers' in type_info[iterator].contents[1].contents[0]:\n",
    "                producers_list = []\n",
    "                for producer in type_info[iterator].find_all('a'):\n",
    "                    producers_list.append(producer.contents[0])\n",
    "                details_dict[type_info[iterator].contents[1].contents[0].replace(':','')] = producers_list\n",
    "                iterator+=1\n",
    "            elif 'Licensors' in type_info[iterator].contents[1].contents[0]:\n",
    "                licensors_list = []\n",
    "\n",
    "                if 'None found' in type_info[iterator].contents[2]:\n",
    "                    licensors_list.append('None found')\n",
    "                else:\n",
    "                    for licensor in type_info[iterator].find_all('a'):\n",
    "                        licensors_list.append(licensor.contents[0])\n",
    "                details_dict[type_info[iterator].contents[1].contents[0].replace(':','')] = licensors_list\n",
    "                iterator+=1\n",
    "            elif 'Studios' in type_info[iterator].contents[1].contents[0]:\n",
    "                studios_list = []\n",
    "                for studio in type_info[iterator].find_all('a'):\n",
    "                    studios_list.append(studio.contents[0])\n",
    "                details_dict[type_info[iterator].contents[1].contents[0].replace(':','')] = studios_list\n",
    "                iterator+=1\n",
    "            elif 'Genres' in type_info[iterator].contents[1].contents[0]:\n",
    "                genres_list = []\n",
    "                for genre in type_info[iterator].find_all('a'):\n",
    "                    genres_list.append(genre.contents[0])\n",
    "                details_dict[type_info[iterator].contents[1].contents[0].replace(':','')] = genres_list\n",
    "                iterator+=1\n",
    "            elif 'Score' in type_info[iterator].contents[1].contents[0]:    \n",
    "                details_dict[type_info[iterator].contents[1].contents[0].replace(':','')] = type_info[iterator].contents[3].contents[0].rstrip().lstrip()\n",
    "                details_dict['ScoredBy'] = type_info[iterator].contents[6].contents[0].rstrip().lstrip()\n",
    "                iterator+=2\n",
    "            elif 'Ranked' in type_info[iterator].contents[1].contents[0]:    \n",
    "                details_dict[type_info[iterator].contents[1].contents[0].replace(':','')] = type_info[iterator].contents[2].rstrip().lstrip()\n",
    "                iterator+=2\n",
    "            else:\n",
    "                try:\n",
    "                    details_dict[type_info[iterator].contents[1].contents[0].replace(':','')] = type_info[iterator].contents[2].rstrip().lstrip()\n",
    "                    iterator+=1\n",
    "                except:\n",
    "                    iterator+=1\n",
    "        except:\n",
    "            iterator+=1\n",
    "            \n",
    "    return details_dict\n",
    "\n",
    "\n",
    "def build_anime_dict(soup):\n",
    "    anime_dict = {}\n",
    "    \n",
    "    anime_dict['id'] = get_anime_title(soup)\n",
    "    anime_dict['title'] = get_anime_title(soup)\n",
    "    anime_dict['photo'] = get_anime_photo(soup)\n",
    "    anime_dict['links'] = get_anime_links(soup)\n",
    "    anime_dict['synopsis'] = get_anime_synopsis(soup)\n",
    "    anime_dict['background'] = get_anime_background(soup)\n",
    "    anime_dict['details'] = get_anime_details(soup)\n",
    "    anime_dict['data_extraction'] = datetime.datetime.now().astimezone(brazil_time).strftime(\"%Y-%m-%d %H:%M:%S\")\n",
    "    \n",
    "    return anime_dict\n",
    "\n",
    "\n",
    "anime_dict = build_anime_dict(soup)\n",
    "print(anime_dict)"
   ]
  },
  {
   "cell_type": "code",
   "execution_count": 3,
   "id": "exempt-foster",
   "metadata": {},
   "outputs": [],
   "source": [
    "def scrap_animes(start,end):\n",
    "    result_dict = []\n",
    "    counter = start\n",
    "    limit = end\n",
    "    \n",
    "    while counter <= limit:\n",
    "        r = requests.get(f'https://myanimelist.net/anime/{counter}')\n",
    "        if r.status_code == 200:\n",
    "            soup = BeautifulSoup(r.text, 'html.parser')\n",
    "            anime_dict = build_anime_dict(soup)\n",
    "            anime_dict['id'] = counter\n",
    "\n",
    "            result_dict.append(anime_dict)  \n",
    "        counter+=1\n",
    "\n",
    "    with open(f\"../datasets/anime/{start}-{end}.json\", \"w\") as outfile:  \n",
    "        json.dump(result_dict, outfile)"
   ]
  },
  {
   "cell_type": "code",
   "execution_count": 4,
   "id": "unknown-suspension",
   "metadata": {},
   "outputs": [
    {
     "name": "stdout",
     "output_type": "stream",
     "text": [
      "--- It took 95.97402000427246 seconds to complete all scraps ---\n"
     ]
    }
   ],
   "source": [
    "start_time = time.time()\n",
    " \n",
    "with concurrent.futures.ThreadPoolExecutor(max_workers=2) as executor:\n",
    "    executor.submit(scrap_animes,1,100)\n",
    "    executor.submit(scrap_animes,101,200)\n",
    "\n",
    "print(\"--- It took %s seconds to complete all scraps ---\" % (time.time() - start_time))"
   ]
  },
  {
   "cell_type": "code",
   "execution_count": 7,
   "id": "characteristic-trustee",
   "metadata": {},
   "outputs": [
    {
     "data": {
      "text/html": [
       "<div>\n",
       "<style scoped>\n",
       "    .dataframe tbody tr th:only-of-type {\n",
       "        vertical-align: middle;\n",
       "    }\n",
       "\n",
       "    .dataframe tbody tr th {\n",
       "        vertical-align: top;\n",
       "    }\n",
       "\n",
       "    .dataframe thead th {\n",
       "        text-align: right;\n",
       "    }\n",
       "</style>\n",
       "<table border=\"1\" class=\"dataframe\">\n",
       "  <thead>\n",
       "    <tr style=\"text-align: right;\">\n",
       "      <th></th>\n",
       "      <th>id</th>\n",
       "      <th>title</th>\n",
       "      <th>photo</th>\n",
       "      <th>links</th>\n",
       "      <th>synopsis</th>\n",
       "      <th>background</th>\n",
       "      <th>details</th>\n",
       "      <th>data_extraction</th>\n",
       "    </tr>\n",
       "  </thead>\n",
       "  <tbody>\n",
       "    <tr>\n",
       "      <th>0</th>\n",
       "      <td>1</td>\n",
       "      <td>Cowboy Bebop</td>\n",
       "      <td>https://cdn.myanimelist.net/images/anime/4/196...</td>\n",
       "      <td>{'episodes': 'https://myanimelist.net/anime/1/...</td>\n",
       "      <td>In the year 2071, humanity has colonized sever...</td>\n",
       "      <td>When Cowboy Bebop first aired in spring of 199...</td>\n",
       "      <td>{'English': 'Cowboy Bebop', 'Japanese': 'カウボーイ...</td>\n",
       "      <td>2021-02-15 00:01:09</td>\n",
       "    </tr>\n",
       "    <tr>\n",
       "      <th>1</th>\n",
       "      <td>5</td>\n",
       "      <td>Cowboy Bebop: Tengoku no Tobira</td>\n",
       "      <td>https://cdn.myanimelist.net/images/anime/1439/...</td>\n",
       "      <td>{'stats': 'https://myanimelist.net/anime/5/Cow...</td>\n",
       "      <td>Another day, another bounty—such is the life o...</td>\n",
       "      <td>No background information</td>\n",
       "      <td>{'English': 'Cowboy Bebop: The Movie', 'Synony...</td>\n",
       "      <td>2021-02-15 00:01:12</td>\n",
       "    </tr>\n",
       "    <tr>\n",
       "      <th>2</th>\n",
       "      <td>6</td>\n",
       "      <td>Trigun</td>\n",
       "      <td>https://cdn.myanimelist.net/images/anime/7/203...</td>\n",
       "      <td>{'episodes': 'https://myanimelist.net/anime/6/...</td>\n",
       "      <td>Vash the Stampede is the man with a $$60,000,0...</td>\n",
       "      <td>The Japanese release by Victor Entertainment h...</td>\n",
       "      <td>{'English': 'Trigun', 'Japanese': 'トライガン', 'Ty...</td>\n",
       "      <td>2021-02-15 00:01:13</td>\n",
       "    </tr>\n",
       "  </tbody>\n",
       "</table>\n",
       "</div>"
      ],
      "text/plain": [
       "   id                            title  \\\n",
       "0   1                     Cowboy Bebop   \n",
       "1   5  Cowboy Bebop: Tengoku no Tobira   \n",
       "2   6                           Trigun   \n",
       "\n",
       "                                               photo  \\\n",
       "0  https://cdn.myanimelist.net/images/anime/4/196...   \n",
       "1  https://cdn.myanimelist.net/images/anime/1439/...   \n",
       "2  https://cdn.myanimelist.net/images/anime/7/203...   \n",
       "\n",
       "                                               links  \\\n",
       "0  {'episodes': 'https://myanimelist.net/anime/1/...   \n",
       "1  {'stats': 'https://myanimelist.net/anime/5/Cow...   \n",
       "2  {'episodes': 'https://myanimelist.net/anime/6/...   \n",
       "\n",
       "                                            synopsis  \\\n",
       "0  In the year 2071, humanity has colonized sever...   \n",
       "1  Another day, another bounty—such is the life o...   \n",
       "2  Vash the Stampede is the man with a $$60,000,0...   \n",
       "\n",
       "                                          background  \\\n",
       "0  When Cowboy Bebop first aired in spring of 199...   \n",
       "1                          No background information   \n",
       "2  The Japanese release by Victor Entertainment h...   \n",
       "\n",
       "                                             details      data_extraction  \n",
       "0  {'English': 'Cowboy Bebop', 'Japanese': 'カウボーイ...  2021-02-15 00:01:09  \n",
       "1  {'English': 'Cowboy Bebop: The Movie', 'Synony...  2021-02-15 00:01:12  \n",
       "2  {'English': 'Trigun', 'Japanese': 'トライガン', 'Ty...  2021-02-15 00:01:13  "
      ]
     },
     "execution_count": 7,
     "metadata": {},
     "output_type": "execute_result"
    }
   ],
   "source": [
    "df = pd.read_json(\"../datasets/anime/1-10.json\")\n",
    "df.head(3)"
   ]
  },
  {
   "cell_type": "code",
   "execution_count": 15,
   "id": "deluxe-secret",
   "metadata": {},
   "outputs": [
    {
     "data": {
      "text/html": [
       "<div>\n",
       "<style scoped>\n",
       "    .dataframe tbody tr th:only-of-type {\n",
       "        vertical-align: middle;\n",
       "    }\n",
       "\n",
       "    .dataframe tbody tr th {\n",
       "        vertical-align: top;\n",
       "    }\n",
       "\n",
       "    .dataframe thead th {\n",
       "        text-align: right;\n",
       "    }\n",
       "</style>\n",
       "<table border=\"1\" class=\"dataframe\">\n",
       "  <thead>\n",
       "    <tr style=\"text-align: right;\">\n",
       "      <th></th>\n",
       "      <th>id</th>\n",
       "      <th>title</th>\n",
       "      <th>photo</th>\n",
       "      <th>links</th>\n",
       "      <th>synopsis</th>\n",
       "      <th>background</th>\n",
       "      <th>data_extraction</th>\n",
       "    </tr>\n",
       "  </thead>\n",
       "  <tbody>\n",
       "    <tr>\n",
       "      <th>0</th>\n",
       "      <td>1</td>\n",
       "      <td>Cowboy Bebop</td>\n",
       "      <td>https://cdn.myanimelist.net/images/anime/4/196...</td>\n",
       "      <td>{'episodes': 'https://myanimelist.net/anime/1/...</td>\n",
       "      <td>In the year 2071, humanity has colonized sever...</td>\n",
       "      <td>When Cowboy Bebop first aired in spring of 199...</td>\n",
       "      <td>2021-02-14 23:01:21</td>\n",
       "    </tr>\n",
       "    <tr>\n",
       "      <th>1</th>\n",
       "      <td>5</td>\n",
       "      <td>Cowboy Bebop: Tengoku no Tobira</td>\n",
       "      <td>https://cdn.myanimelist.net/images/anime/1439/...</td>\n",
       "      <td>{'stats': 'https://myanimelist.net/anime/5/Cow...</td>\n",
       "      <td>Another day, another bounty—such is the life o...</td>\n",
       "      <td>No background information</td>\n",
       "      <td>2021-02-14 23:01:23</td>\n",
       "    </tr>\n",
       "    <tr>\n",
       "      <th>2</th>\n",
       "      <td>6</td>\n",
       "      <td>Trigun</td>\n",
       "      <td>https://cdn.myanimelist.net/images/anime/7/203...</td>\n",
       "      <td>{'episodes': 'https://myanimelist.net/anime/6/...</td>\n",
       "      <td>Vash the Stampede is the man with a $$60,000,0...</td>\n",
       "      <td>The Japanese release by Victor Entertainment h...</td>\n",
       "      <td>2021-02-14 23:01:24</td>\n",
       "    </tr>\n",
       "  </tbody>\n",
       "</table>\n",
       "</div>"
      ],
      "text/plain": [
       "   id                            title  \\\n",
       "0   1                     Cowboy Bebop   \n",
       "1   5  Cowboy Bebop: Tengoku no Tobira   \n",
       "2   6                           Trigun   \n",
       "\n",
       "                                               photo  \\\n",
       "0  https://cdn.myanimelist.net/images/anime/4/196...   \n",
       "1  https://cdn.myanimelist.net/images/anime/1439/...   \n",
       "2  https://cdn.myanimelist.net/images/anime/7/203...   \n",
       "\n",
       "                                               links  \\\n",
       "0  {'episodes': 'https://myanimelist.net/anime/1/...   \n",
       "1  {'stats': 'https://myanimelist.net/anime/5/Cow...   \n",
       "2  {'episodes': 'https://myanimelist.net/anime/6/...   \n",
       "\n",
       "                                            synopsis  \\\n",
       "0  In the year 2071, humanity has colonized sever...   \n",
       "1  Another day, another bounty—such is the life o...   \n",
       "2  Vash the Stampede is the man with a $$60,000,0...   \n",
       "\n",
       "                                          background      data_extraction  \n",
       "0  When Cowboy Bebop first aired in spring of 199...  2021-02-14 23:01:21  \n",
       "1                          No background information  2021-02-14 23:01:23  \n",
       "2  The Japanese release by Victor Entertainment h...  2021-02-14 23:01:24  "
      ]
     },
     "execution_count": 15,
     "metadata": {},
     "output_type": "execute_result"
    }
   ],
   "source": [
    "links_df = pd.DataFrame.from_dict(result_dict)\n",
    "links_df.head(3)"
   ]
  }
 ],
 "metadata": {
  "kernelspec": {
   "display_name": "Python 3",
   "language": "python",
   "name": "python3"
  },
  "language_info": {
   "codemirror_mode": {
    "name": "ipython",
    "version": 3
   },
   "file_extension": ".py",
   "mimetype": "text/x-python",
   "name": "python",
   "nbconvert_exporter": "python",
   "pygments_lexer": "ipython3",
   "version": "3.8.6"
  }
 },
 "nbformat": 4,
 "nbformat_minor": 5
}
