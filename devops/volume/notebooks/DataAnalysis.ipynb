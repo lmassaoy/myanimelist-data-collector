{
 "cells": [
  {
   "cell_type": "code",
   "execution_count": 16,
   "id": "saved-quantum",
   "metadata": {},
   "outputs": [],
   "source": [
    "import json\n",
    "import pandas as pd\n",
    "from os import listdir\n",
    "from os.path import isfile, join\n",
    "\n",
    "             \n",
    "directory_path = \"../datasets/anime/\"\n",
    "file_path = []\n",
    "\n",
    "\n",
    "file_list = [f for f in listdir(directory_path) if isfile(join(directory_path, f))]\n",
    "\n",
    "concatenated_file=[]\n",
    "for file in file_list:\n",
    "     with open(f'{directory_path}{file}') as f:\n",
    "        for obj in json.load(f):\n",
    "            concatenated_file.append(obj)\n",
    "\n",
    "df = pd.json_normalize(concatenated_file)"
   ]
  },
  {
   "cell_type": "markdown",
   "id": "controlled-syndrome",
   "metadata": {},
   "source": [
    "### Number of Rows"
   ]
  },
  {
   "cell_type": "code",
   "execution_count": 17,
   "id": "finished-relations",
   "metadata": {},
   "outputs": [
    {
     "name": "stdout",
     "output_type": "stream",
     "text": [
      "2386\n"
     ]
    }
   ],
   "source": [
    "print(len(df.index))"
   ]
  },
  {
   "cell_type": "code",
   "execution_count": 18,
   "id": "interesting-tamil",
   "metadata": {},
   "outputs": [
    {
     "data": {
      "text/html": [
       "<div>\n",
       "<style scoped>\n",
       "    .dataframe tbody tr th:only-of-type {\n",
       "        vertical-align: middle;\n",
       "    }\n",
       "\n",
       "    .dataframe tbody tr th {\n",
       "        vertical-align: top;\n",
       "    }\n",
       "\n",
       "    .dataframe thead th {\n",
       "        text-align: right;\n",
       "    }\n",
       "</style>\n",
       "<table border=\"1\" class=\"dataframe\">\n",
       "  <thead>\n",
       "    <tr style=\"text-align: right;\">\n",
       "      <th></th>\n",
       "      <th>id</th>\n",
       "      <th>title</th>\n",
       "      <th>photo</th>\n",
       "      <th>synopsis</th>\n",
       "      <th>background</th>\n",
       "      <th>data_extraction</th>\n",
       "      <th>links.stats</th>\n",
       "      <th>links.characters &amp; staff</th>\n",
       "      <th>details.Synonyms</th>\n",
       "      <th>details.Japanese</th>\n",
       "      <th>...</th>\n",
       "      <th>details.Score</th>\n",
       "      <th>details.ScoredBy</th>\n",
       "      <th>details.Ranked</th>\n",
       "      <th>details.Popularity</th>\n",
       "      <th>details.Members</th>\n",
       "      <th>details.Favorites</th>\n",
       "      <th>links.episodes</th>\n",
       "      <th>details.Premiered</th>\n",
       "      <th>details.Broadcast</th>\n",
       "      <th>details.English</th>\n",
       "    </tr>\n",
       "  </thead>\n",
       "  <tbody>\n",
       "    <tr>\n",
       "      <th>2305</th>\n",
       "      <td>269</td>\n",
       "      <td>Bleach</td>\n",
       "      <td>https://cdn.myanimelist.net/images/anime/3/404...</td>\n",
       "      <td>Ichigo Kurosaki is an ordinary high schooler—u...</td>\n",
       "      <td>Bleach adapts the first 54 volumes of Tite Kub...</td>\n",
       "      <td>2021-02-15 00:41:21</td>\n",
       "      <td>https://myanimelist.net/anime/269/Bleach/stats</td>\n",
       "      <td>https://myanimelist.net/anime/269/Bleach/chara...</td>\n",
       "      <td>NaN</td>\n",
       "      <td>BLEACH - ブリーチ -</td>\n",
       "      <td>...</td>\n",
       "      <td>7.80</td>\n",
       "      <td>646690</td>\n",
       "      <td>#818</td>\n",
       "      <td>#33</td>\n",
       "      <td>1,286,868</td>\n",
       "      <td>54,404</td>\n",
       "      <td>https://myanimelist.net/anime/269/Bleach/episode</td>\n",
       "      <td>Fall 2004</td>\n",
       "      <td>Tuesdays at 18:00 (JST)</td>\n",
       "      <td>Bleach</td>\n",
       "    </tr>\n",
       "  </tbody>\n",
       "</table>\n",
       "<p>1 rows × 31 columns</p>\n",
       "</div>"
      ],
      "text/plain": [
       "       id   title                                              photo  \\\n",
       "2305  269  Bleach  https://cdn.myanimelist.net/images/anime/3/404...   \n",
       "\n",
       "                                               synopsis  \\\n",
       "2305  Ichigo Kurosaki is an ordinary high schooler—u...   \n",
       "\n",
       "                                             background      data_extraction  \\\n",
       "2305  Bleach adapts the first 54 volumes of Tite Kub...  2021-02-15 00:41:21   \n",
       "\n",
       "                                         links.stats  \\\n",
       "2305  https://myanimelist.net/anime/269/Bleach/stats   \n",
       "\n",
       "                               links.characters & staff details.Synonyms  \\\n",
       "2305  https://myanimelist.net/anime/269/Bleach/chara...              NaN   \n",
       "\n",
       "     details.Japanese  ... details.Score details.ScoredBy details.Ranked  \\\n",
       "2305  BLEACH - ブリーチ -  ...          7.80           646690           #818   \n",
       "\n",
       "     details.Popularity details.Members details.Favorites  \\\n",
       "2305                #33       1,286,868            54,404   \n",
       "\n",
       "                                        links.episodes details.Premiered  \\\n",
       "2305  https://myanimelist.net/anime/269/Bleach/episode         Fall 2004   \n",
       "\n",
       "            details.Broadcast details.English  \n",
       "2305  Tuesdays at 18:00 (JST)          Bleach  \n",
       "\n",
       "[1 rows x 31 columns]"
      ]
     },
     "execution_count": 18,
     "metadata": {},
     "output_type": "execute_result"
    }
   ],
   "source": [
    "bleach = df[df['id'] == 269]\n",
    "bleach.head(1)"
   ]
  },
  {
   "cell_type": "code",
   "execution_count": null,
   "id": "developed-combining",
   "metadata": {},
   "outputs": [],
   "source": []
  }
 ],
 "metadata": {
  "kernelspec": {
   "display_name": "Python 3",
   "language": "python",
   "name": "python3"
  },
  "language_info": {
   "codemirror_mode": {
    "name": "ipython",
    "version": 3
   },
   "file_extension": ".py",
   "mimetype": "text/x-python",
   "name": "python",
   "nbconvert_exporter": "python",
   "pygments_lexer": "ipython3",
   "version": "3.8.6"
  }
 },
 "nbformat": 4,
 "nbformat_minor": 5
}
